{
  "nbformat": 4,
  "nbformat_minor": 0,
  "metadata": {
    "colab": {
      "provenance": []
    },
    "kernelspec": {
      "name": "python3",
      "display_name": "Python 3"
    },
    "language_info": {
      "name": "python"
    }
  },
  "cells": [
    {
      "cell_type": "code",
      "execution_count": null,
      "metadata": {
        "id": "amujQA7r4EsI"
      },
      "outputs": [],
      "source": []
    },
    {
      "cell_type": "code",
      "source": [],
      "metadata": {
        "id": "6pulg7284FVv"
      },
      "execution_count": null,
      "outputs": []
    },
    {
      "cell_type": "code",
      "source": [
        "# Import libraries\n",
        "import pandas as pd\n",
        "import numpy as np\n",
        "from sklearn.model_selection import train_test_split\n",
        "from sklearn.preprocessing import StandardScaler, LabelEncoder\n",
        "from sklearn.ensemble import RandomForestClassifier\n",
        "from sklearn.metrics import classification_report, accuracy_score\n",
        "import joblib\n",
        "\n",
        "# Load the dataset\n",
        "df = pd.read_csv(\"/content/sample_data/Fish.csv\")\n",
        "\n",
        "# Inspect the data\n",
        "print(df.head())\n",
        "print(df.info())\n",
        "\n",
        "# Encode the target variable (Species) as numbers\n",
        "le = LabelEncoder()\n",
        "df['Species_encoded'] = le.fit_transform(df['Species'])\n",
        "\n",
        "# Features and target selection\n",
        "# Using all measurements except the original Species name and the encoded label is the target.\n",
        "X = df[['Weight', 'Length1', 'Length2', 'Length3', 'Height', 'Width']]\n",
        "y = df['Species_encoded']\n",
        "\n",
        "# Split data into train and test sets\n",
        "X_train, X_test, y_train, y_test = train_test_split(X, y, test_size=0.2, random_state=42)\n",
        "\n",
        "# Scale features for better performance\n",
        "scaler = StandardScaler()\n",
        "X_train_scaled = scaler.fit_transform(X_train)\n",
        "X_test_scaled = scaler.transform(X_test)\n",
        "\n",
        "# Build a classification model (RandomForest)\n",
        "model = RandomForestClassifier(n_estimators=100, random_state=42)\n",
        "model.fit(X_train_scaled, y_train)\n",
        "\n",
        "# Evaluate the model\n",
        "y_pred = model.predict(X_test_scaled)\n",
        "print(\"Accuracy:\", accuracy_score(y_test, y_pred))\n",
        "print(classification_report(y_test, y_pred))\n",
        "\n",
        "# Save the scaler and model for deployment\n",
        "joblib.dump(model, \"fish_species_model.pkl\")\n",
        "joblib.dump(scaler, \"scaler.pkl\")\n",
        "joblib.dump(le, \"label_encoder.pkl\")\n"
      ],
      "metadata": {
        "colab": {
          "base_uri": "https://localhost:8080/"
        },
        "id": "t0tlgD0w4FkJ",
        "outputId": "ca15b15d-038c-49d1-8dfd-8ef74939e918"
      },
      "execution_count": 2,
      "outputs": [
        {
          "output_type": "stream",
          "name": "stdout",
          "text": [
            "  Species  Weight  Length1  Length2  Length3   Height   Width\n",
            "0   Bream   242.0     23.2     25.4     30.0  11.5200  4.0200\n",
            "1   Bream   290.0     24.0     26.3     31.2  12.4800  4.3056\n",
            "2   Bream   340.0     23.9     26.5     31.1  12.3778  4.6961\n",
            "3   Bream   363.0     26.3     29.0     33.5  12.7300  4.4555\n",
            "4   Bream   430.0     26.5     29.0     34.0  12.4440  5.1340\n",
            "<class 'pandas.core.frame.DataFrame'>\n",
            "RangeIndex: 159 entries, 0 to 158\n",
            "Data columns (total 7 columns):\n",
            " #   Column   Non-Null Count  Dtype  \n",
            "---  ------   --------------  -----  \n",
            " 0   Species  159 non-null    object \n",
            " 1   Weight   159 non-null    float64\n",
            " 2   Length1  159 non-null    float64\n",
            " 3   Length2  159 non-null    float64\n",
            " 4   Length3  159 non-null    float64\n",
            " 5   Height   159 non-null    float64\n",
            " 6   Width    159 non-null    float64\n",
            "dtypes: float64(6), object(1)\n",
            "memory usage: 8.8+ KB\n",
            "None\n",
            "Accuracy: 0.78125\n",
            "              precision    recall  f1-score   support\n",
            "\n",
            "           0       1.00      1.00      1.00        10\n",
            "           1       1.00      1.00      1.00         1\n",
            "           2       0.75      0.67      0.71         9\n",
            "           3       1.00      1.00      1.00         3\n",
            "           4       0.00      0.00      0.00         1\n",
            "           5       1.00      1.00      1.00         5\n",
            "           6       0.00      0.00      0.00         3\n",
            "\n",
            "    accuracy                           0.78        32\n",
            "   macro avg       0.68      0.67      0.67        32\n",
            "weighted avg       0.80      0.78      0.79        32\n",
            "\n"
          ]
        },
        {
          "output_type": "stream",
          "name": "stderr",
          "text": [
            "/usr/local/lib/python3.11/dist-packages/sklearn/metrics/_classification.py:1565: UndefinedMetricWarning: Precision is ill-defined and being set to 0.0 in labels with no predicted samples. Use `zero_division` parameter to control this behavior.\n",
            "  _warn_prf(average, modifier, f\"{metric.capitalize()} is\", len(result))\n",
            "/usr/local/lib/python3.11/dist-packages/sklearn/metrics/_classification.py:1565: UndefinedMetricWarning: Precision is ill-defined and being set to 0.0 in labels with no predicted samples. Use `zero_division` parameter to control this behavior.\n",
            "  _warn_prf(average, modifier, f\"{metric.capitalize()} is\", len(result))\n",
            "/usr/local/lib/python3.11/dist-packages/sklearn/metrics/_classification.py:1565: UndefinedMetricWarning: Precision is ill-defined and being set to 0.0 in labels with no predicted samples. Use `zero_division` parameter to control this behavior.\n",
            "  _warn_prf(average, modifier, f\"{metric.capitalize()} is\", len(result))\n"
          ]
        },
        {
          "output_type": "execute_result",
          "data": {
            "text/plain": [
              "['label_encoder.pkl']"
            ]
          },
          "metadata": {},
          "execution_count": 2
        }
      ]
    },
    {
      "cell_type": "code",
      "source": [],
      "metadata": {
        "id": "XvOXmCrS4lUI"
      },
      "execution_count": null,
      "outputs": []
    }
  ]
}